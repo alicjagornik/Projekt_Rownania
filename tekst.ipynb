{
 "cells": [
  {
   "cell_type": "markdown",
   "metadata": {},
   "source": [
    "$$\n",
    "\\Huge \\text{MODEL ZMIAN MASY CIAŁA}\n",
    "$$"
   ]
  },
  {
   "cell_type": "markdown",
   "metadata": {},
   "source": [
    "## WSTĘP\n",
    "##### Poniższy projekt skupia się na analizie zmiany masy ciała z wykorzystaniem równań różniczkowych.\n",
    "##### Celem tego projektu jest stworzenie modelu matematycznego opisującego dynamikę zmiany masy ciała w określonym przedziale czasowym. Wykorzystamy równania różniczkowe zwyczajne, aby opracować model umożliwiający zrozumienie i przewidywanie wzrostu lub spadku masy ciała w różnych scenariuszach.\n",
    "##### Motywacją tego projektu jest głębsze zrozumienie procesów kryjących się za tym zjawiskiem. Corocznie odsetek osób z nadwagą wzrasta na całym świecie - w Polsce 25% populacji cierpi na ten problem. Warto podkreślić, że otyłość nie jest wyłącznie kwestią estetyczną, lecz może prowadzić do poważnych problemów zdrowotnych, takich jak miażdżyca, cukrzyca typu 2 czy nadciśnienie tętnicze. Podobnie rzecz ma się w przypadku niedowagi, która nieleczona może prowadzić do zaburzeń miesiączkowania u kobiet, schorzeń układu naczyniowo-sercowego czy nawet wypadania włosów.\n",
    "##### Opracowanie modelu matematycznego zdolnego do prognozowania zmian masy ciała może efektywnie wspomóc osoby, które pragną wprowadzić konkretną zmianę w swoim życiu, dostarczając im wskazówek odnośnie koniecznych kroków, które należy podjąć."
   ]
  },
  {
   "cell_type": "markdown",
   "metadata": {},
   "source": [
    "## OPIS ZJAWISKA / PODSTAWY TEORETYCZNE\n",
    "##### Prezentowany model opiera się w dużej mierze na zastosowaniu równania podstawowej przemiany materii - BMR (ang. Basal Metabolic Rate). Jest to dokładniej mówiąc ilość energii, którą organizm zużywa w spoczynku na podstawowe funkcje życiowe takie jak oddychanie czy też regulacja temperatury ciała. Metod obliczania BMR jest kilka, my jednak wykorzystamy równanie Mifflin St Jeor, które jest uważane za jedno z najdokładniejszych do obliczania BMR.\n"
   ]
  },
  {
   "cell_type": "markdown",
   "metadata": {},
   "source": [
    "$$\n",
    "\\large P = \\left(\\frac{10.0 \\cdot m}{1 \\text{ kg}} + \\frac{6.25 \\cdot h}{1 \\text{ cm}} - \\frac{5.0 \\cdot a}{1 \\text{ year}} + s \\right) \\frac{\\text{kcal}}{\\text{day}}\n",
    "$$"
   ]
  },
  {
   "cell_type": "markdown",
   "metadata": {},
   "source": [
    "##### gdzie:  \n",
    "##### m - masa [kg].\n",
    "##### h - wzrost [cm], \n",
    "##### a - wiek [lat], \n",
    "##### s = +5 dla mężczyzny i s = -161 dla kobiety."
   ]
  },
  {
   "cell_type": "markdown",
   "metadata": {},
   "source": [
    "##### Jednocześnie BMR nie jest jedynym czynnikiem, który wpływa na dzienną liczbę spalanych przez nas kalorii. Musimy wziąść pod uwagę każde czynności, które zwiększają poziom naszej aktywności. Zaliczamy do tego czynności takie jak chodzenie na uczelnię, ćwiczenia w domu lub na siłowni. W języku specjalistycznym jest to zwane jako współczynnik aktywności fizycznej - PAL (ang. Physical Activity Level), czyli wskaźnik, który określa poziom aktywności człowieka."
   ]
  },
  {
   "cell_type": "markdown",
   "metadata": {},
   "source": [
    "$$\n",
    "\\large PAL = \\frac{\\text{całkowita przemiana materii}}{\\text{podstawowa przemiana materii}}\n",
    "$$"
   ]
  },
  {
   "cell_type": "markdown",
   "metadata": {},
   "source": [
    "##### Obliczanie PAL wymaga jednak dość wnikliwej analizy poziomu indywidualnej codziennej aktywności fizycznej, co w większości przypadków dla wielu osób może być problematyczne. Wykorzystamy zatem uogólnione wartości, do których przypisane są podstawowe zakresy aktywności."
   ]
  },
  {
   "cell_type": "markdown",
   "metadata": {},
   "source": [
    "$$\n",
    "\\text{i tu tabela}\n",
    "$$"
   ]
  },
  {
   "cell_type": "markdown",
   "metadata": {},
   "source": [
    "##### Jednakże musimy pamiętać, iż tempo zmiany masy ciała NIE jest stałe. Kiedy zmienia się masa ciała zmienia się również nasze BMR."
   ]
  },
  {
   "cell_type": "markdown",
   "metadata": {},
   "source": [
    "ŻRÓDŁA:\\\n",
    "https://pl.wikipedia.org/wiki/Podstawowa_przemiana_materii \\\n",
    "https://en.wikipedia.org/wiki/Basal_metabolic_rate#BMR_estimation_formulas"
   ]
  }
 ],
 "metadata": {
  "language_info": {
   "name": "python"
  }
 },
 "nbformat": 4,
 "nbformat_minor": 2
}
