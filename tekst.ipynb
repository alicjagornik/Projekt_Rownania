{
 "cells": [
  {
   "cell_type": "markdown",
   "metadata": {},
   "source": [
    "$$\n",
    "\\Huge \\text{MODEL ZMIAN MASY CIAŁA}\n",
    "$$\n",
    "\n",
    "$$\n",
    "\\Large \\text{Autorzy: Alicja Górnik, Jagoda Płócienniczak}\n",
    "$$"
   ]
  },
  {
   "cell_type": "markdown",
   "metadata": {},
   "source": [
    "## WSTĘP\n",
    "##### Poniższy projekt skupia się na analizie zmiany masy ciała z wykorzystaniem równań różniczkowych.\n",
    "##### Celem tego projektu jest stworzenie modelu matematycznego opisującego dynamikę zmiany masy ciała w określonym przedziale czasowym. Wykorzystamy równania różniczkowe zwyczajne, aby opracować model umożliwiający zrozumienie i przewidywanie wzrostu lub spadku masy ciała w różnych scenariuszach.\n",
    "##### Motywacją tego projektu jest głębsze zrozumienie procesów kryjących się za tym zjawiskiem. Corocznie odsetek osób z nadwagą wzrasta na całym świecie - w Polsce 25% populacji cierpi na ten problem. Warto podkreślić, że otyłość nie jest wyłącznie kwestią estetyczną, lecz może prowadzić do poważnych problemów zdrowotnych, takich jak miażdżyca, cukrzyca typu 2 czy nadciśnienie tętnicze. Podobnie rzecz ma się w przypadku niedowagi, która nieleczona może prowadzić do zaburzeń miesiączkowania u kobiet, schorzeń układu naczyniowo-sercowego czy wypadania włosów.\n",
    "##### Opracowanie modelu matematycznego zdolnego do prognozowania zmian masy ciała może efektywnie pomóc osobom, które pragną wprowadzić konkretne zmiany w swoim życiu, dostarczając im wskazówek odnośnie kroków, które należy podjąć."
   ]
  },
  {
   "cell_type": "markdown",
   "metadata": {},
   "source": [
    "## OPIS ZJAWISKA / PODSTAWY TEORETYCZNE"
   ]
  },
  {
   "cell_type": "markdown",
   "metadata": {},
   "source": [
    "##### Zmiana masy ciała jest rezultatem różnicy między spożytymi, a zużywanymi kaloriami. Jeśli spożywamy więcej kalorii niż zużywamy, jest bardzo prawdopodobne, że nasza waga wzrośnie. Natomiast gdy spożywamy mniej kalorii, niż nasze ciało potrzebuje do funkcjonowania, organizm wykorzystuje zapasy energii, takie jak tłuszcz, do pokrycia zapotrzebowania energetycznego, co prowadzi do utraty masy ciała."
   ]
  },
  {
   "cell_type": "markdown",
   "metadata": {},
   "source": [
    "##### Cały ten proces doskonale oddaje pierwsza zasada termodynamiki (energia nie może być ani utracona, ani stworzona, ale może być przekształcana z jednej formy do drugiej):\n",
    "$$\n",
    "\\large \\Delta U = Q - W\n",
    "$$\n",
    "##### gdzie:  \n",
    "- ##### $\\Delta U $- zmiana energii wewnętrznej systemu\n",
    "- ##### Q - ciepło dostarczone do systemu\n",
    "- ##### W - praca wykonana przez system\n",
    "\n",
    "##### W kontekście zmiany masy ciała, odnosi się to do równania energetycznego:\n",
    "$$\n",
    "\\large \\text{Bilans kaloryczny = kalorie spożyte - kalorie spalone} \\\\\n",
    "$$\n",
    "\n",
    "##### Oznaczmy przez $c$ ilość spożytych kalorii. Aby obliczyć liczbę spalonych kalorii skorzystamy z podstawowej przemiany materii - BMR (ang. Basal Metabolic Rate). Jest to dokładniej mówiąc ilość energii, którą organizm zużywa w spoczynku na podstawowe funkcje życiowe takie jak oddychanie czy też regulacje temperatury ciała. Metod obliczania BMR jest kilka, my jednak wykorzystamy równanie Mifflin St Jeor, które jest uważane za jedno z najdokładniejszych do obliczania BMR."
   ]
  },
  {
   "cell_type": "markdown",
   "metadata": {},
   "source": [
    "$$\n",
    "\\large P = \\left(\\frac{10.0 \\cdot m}{1 \\text{ kg}} + \\frac{6.25 \\cdot h}{1 \\text{ cm}} - \\frac{5.0 \\cdot a}{1 \\text{ year}} + s \\right) \\frac{\\text{kcal}}{\\text{day}}\n",
    "$$"
   ]
  },
  {
   "cell_type": "markdown",
   "metadata": {},
   "source": [
    "##### gdzie:  \n",
    "- ##### m - masa [kg].\n",
    "- ##### h - wzrost [cm], \n",
    "- ##### a - wiek [lat], \n",
    "- ##### s = +5 dla mężczyzny i s = -161 dla kobiety."
   ]
  },
  {
   "cell_type": "markdown",
   "metadata": {},
   "source": [
    "##### Jednakże BMR nie jest jedynym czynnikiem wpływającym na dzienną liczbę spalanych przez nas kalorii. Musimy uwzględnić każdą czynność zwiększającą poziom naszej aktywności, jak chociażby chodzenie pieszo na uczelnię czy ćwiczenia w domu lub na siłowni. W języku specjalistycznym nazywa się to współczynnikiem aktywności fizycznej - PAL (ang. Physical Activity Level), czyli wskaźnikiem określającym poziom aktywności człowieka."
   ]
  },
  {
   "cell_type": "markdown",
   "metadata": {},
   "source": [
    "$$\n",
    "\\large PAL = \\frac{\\text{całkowita przemiana materii}}{\\text{podstawowa przemiana materii}} = f\n",
    "$$"
   ]
  },
  {
   "cell_type": "markdown",
   "metadata": {},
   "source": [
    "##### Obliczanie PAL wymaga jednak dość wnikliwej analizy poziomu indywidualnej, codziennej aktywności fizycznej, co dla wielu osób może być problematyczne. Dlatego, aby uczynić nasz model bardziej praktycznym i wykluczyć ewentualne błędy ludzkie, skorzystamy z uogólnych wartości, które odpowiadają podstawowym zakresom aktywności."
   ]
  },
  {
   "cell_type": "markdown",
   "metadata": {},
   "source": [
    "| Aktywność | Przykład | PAL |\n",
    "| ----------- | ----------- | ----------- |\n",
    "| Bardzo mała aktywność | Osoba, która ma problemy z poruszaniem się ze względu na chorobę. | < 1,40 |\n",
    "| Siedzący tryb życia | Siedząca praca oraz brak ruchu. | 1,40 - 1,69 |\n",
    "| Umiarkowanie aktywny | Praca fizyczna lub osoba uprawiająca jogging | 1,70 - 1,99 |\n",
    "| Bardzo aktywny | Ciężka praca fizyczna lub osoba, która pływa codziennie  | 2,00 - 2,40 |\n",
    "| Ekstremalnie aktywny | Zawodowi sportowcy | > 2,40|\n",
    "   "
   ]
  },
  {
   "cell_type": "markdown",
   "metadata": {},
   "source": [
    "##### Znając zarówno nasze BMR, jak i PAL możemy 'uzupełnić' nasz model. Załóżmy, że $1 \\space kg$ tkanki tłuszczowej to około $7700 \\space kcal$. Dlatego jeśli chcemy przybrać lub zrzucić $1 \\space kg$ musimy stworzyć bilans kalorycznyny na poziomie $7700 \\space kcal$. Najlepszym i najzdrowszym sposobem jest rozłożenie bilansu równomiernie na pewnien okres czasu. Uwzględniając ten fakt mamy:\n",
    "\n",
    "$$\n",
    "\\large (\\Delta m(t) =) \\space \\frac{dm(t)}{dt} = \\frac{c-f \\cdot P}{7700} =  \\frac{c - f \\cdot \\left( 10 \\cdot m(t) + 6.25 \\cdot h - 5 \\cdot a + s \\right)}{7700} = \\dfrac{-f \\cdot m}{7700} + \\dfrac{c - f \\left(6.25 \\cdot h - 5 \\cdot a + s \\right)}{7700}\n",
    "$$"
   ]
  },
  {
   "cell_type": "markdown",
   "metadata": {},
   "source": [
    "##### Przejdźmy teraz do rozwiązania powyższego równania różniczkowego. Chwilowo dla ułatwienia zapisu potraktujmy niewiadome $f,h,a,s$ jako stałe, gdyż nie zależą one od czasu.\n",
    "##### Niech $k = \\dfrac{c - f \\left(6.25 \\cdot h - 5 \\cdot a + s \\right)}{7700}$.\n",
    "##### Wówczas :\n",
    "$$\n",
    "\\large \\frac{dm}{dt} = \\dfrac{-f \\cdot m}{7700} + k\n",
    "$$\n",
    "\n",
    "##### Do rozwiązania równania wykorzystamy czynnik całkujący. Niech $ \\large \\mathrm{\\mu} = e^{\\int \\frac{f}{770} \\, dt} = e^{\\frac{ft}{770}}$. $\\space$ Wtedy:\n",
    "\n",
    "\\begin{align*}\n",
    "&m' + \\dfrac{f}{770}m = k \\quad \\text{/} \\cdot\\mathrm{\\mu} \\\\\n",
    "\\\\\n",
    "&\\large \\mathrm{e}^{\\frac{f}{770}t} \\cdot m' + \\large \\mathrm{e}^{\\frac{f}{770}t} \\cdot \\small \\frac{f}{770}m = \\large \\mathrm{e}^{\\frac{f}{770}t} \\cdot k \\\\\n",
    "\\\\\n",
    "&\\left( \\large \\mathrm{e}^{\\frac{f}{770}t} \\cdot m \\right)' = \\large \\mathrm{e}^{\\frac{f}{770}t} \\cdot k\n",
    "\\end{align*}\n",
    "\n",
    "##### Następnie całkujemy obustronnie:\n",
    "\n",
    "\\begin{align*}\n",
    "&\\int \\left( \\large \\mathrm{e}^{\\frac{f}{770}t} \\cdot m \\right)' \\, dt = k \\int \\large \\mathrm{e}^{\\frac{f}{770}t} \\cdot k \\, dt \\\\\n",
    "\\\\\n",
    "&\\left( \\large \\mathrm{e}^{\\frac{f}{770}t} \\cdot m \\right) = \\frac{770}{f} \\cdot k \\cdot \\large \\mathrm{e}^{\\frac{f}{770}t} + C\\\\\n",
    "\\\\\n",
    "\\end{align*}\n",
    "\n",
    "##### Po przekształceniach otrzymujemy:\n",
    "$$m(t) = \\frac{770}{f} \\cdot k + C \\cdot \\large \\mathrm{e}^{- \\frac{f}{770}t}$$"
   ]
  },
  {
   "cell_type": "markdown",
   "metadata": {},
   "source": [
    "##### Wyznaczmy teraz wartość stałej $C$. Weźmy warunek początkowy $m(0) = m_0$, gdzie $m_0$ - masa początkowa.\n",
    "$$m(0) = \\frac{770}{f} \\cdot k + C \\cdot 1 \\equiv m_0$$ \n",
    "##### Zatem: $C = m_0 - \\dfrac{770k}{f}$\n",
    "##### Podstawiając do równania otrzymujemy:\n",
    "$$m(t) = \\frac{770}{f} \\cdot k + \\left( m_0 - \\dfrac{770k}{f} \\right) \\cdot \\large \\mathrm{e}^{- \\frac{f}{770}t}$$\n",
    "##### Pamiętajmy, że skorzystaliśmy z podstawienia $k = \\dfrac{c - f \\left(6.25 \\cdot h - 5 \\cdot a + s \\right)}{7700}$.\n",
    "##### Zatem wracając do oryginalnych oznaczeń otrzymujemy otatecznie równanie:\n",
    "$$m(t) = \\frac{c - f \\left(6.25 \\cdot h - 5 \\cdot a + s \\right)}{10f} + \\left( m_0 - \\dfrac{c - f \\left(6.25 \\cdot h - 5 \\cdot a + s \\right)}{10f} \\right) \\cdot \\large \\mathrm{e}^{- \\frac{f}{770}t}$$"
   ]
  },
  {
   "cell_type": "markdown",
   "metadata": {},
   "source": []
  },
  {
   "cell_type": "markdown",
   "metadata": {},
   "source": [
    "ŹRÓDŁA:\\\n",
    "https://enjeck.com/blog/predict-change-differential-equations/ \\\n",
    "https://www.healthline.com/health/how-to-calculate-your-basal-metabolic-rate#whats-a-healthy-bmr"
   ]
  }
 ],
 "metadata": {
  "language_info": {
   "name": "python"
  }
 },
 "nbformat": 4,
 "nbformat_minor": 2
}
